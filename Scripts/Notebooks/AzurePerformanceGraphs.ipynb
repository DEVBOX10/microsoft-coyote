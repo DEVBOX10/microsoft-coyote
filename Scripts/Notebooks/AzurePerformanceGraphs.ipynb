{
 "cells": [
  {
   "cell_type": "code",
   "execution_count": null,
   "metadata": {},
   "outputs": [],
   "source": [
    "# this is the Azure Notebook, to be run inside Azure hosted notebook.\n",
    "import sys\n",
    "!{sys.executable} -m pip install bokeh==1.4.0 --user"
   ]
  },
  {
   "cell_type": "code",
   "execution_count": null,
   "metadata": {},
   "outputs": [],
   "source": [
    "import math\n",
    "import pandas as pd\n",
    "pd.options.display.html.table_schema = True\n",
    "pd.options.display.max_rows = None\n",
    "import bokeh.io\n",
    "from bokeh.plotting import figure, output_file, show\n",
    "from bokeh.models import ColumnDataSource, HoverTool\n",
    "from bokeh.models.ranges import FactorRange\n",
    "from bokeh.transform import factor_cmap\n",
    "from bokeh.resources import INLINE\n",
    "import bokeh.io\n",
    "\n",
    "bokeh.io.reset_output()\n",
    "bokeh.io.output_notebook(INLINE)"
   ]
  },
  {
   "cell_type": "code",
   "execution_count": null,
   "metadata": {},
   "outputs": [],
   "source": [
    "import azure.cosmos\n",
    "from azure.cosmos.partition_key import PartitionKey\n",
    "\n",
    "database = cosmos_client.create_database_if_not_exists('actorperfdb')\n",
    "print('Database actorperfdb created')\n",
    "\n",
    "container = database.create_container_if_not_exists(id='actorperfsummary', partition_key=PartitionKey(path='/PartitionKey'))\n",
    "print('Container actorperfsummary created')"
   ]
  },
  {
   "cell_type": "code",
   "execution_count": null,
   "metadata": {},
   "outputs": [],
   "source": [
    "%%sql --database actorperfdb --container actorperfsummary --output df_cosmos\n",
    "SELECT c.CommitId, c.TestName, c.TimeMean, c.TimeStdDev, c.MemoryMean, c.MemoryStdDev, c.CpuMean, c.CpuStdDev FROM c"
   ]
  },
  {
   "cell_type": "code",
   "execution_count": null,
   "metadata": {},
   "outputs": [],
   "source": [
    "%%sql --database actorperfdb --container commitlog --output df_commits\n",
    "SELECT c.Id, c.CommitId, c.Date, c.Author FROM c"
   ]
  },
  {
   "cell_type": "code",
   "execution_count": null,
   "metadata": {},
   "outputs": [],
   "source": [
    "width = 800\n",
    "height = 332\n",
    "\n",
    "def plots_with_error_bars(title, data, color='#4080A0'):\n",
    "    p = figure(plot_height=height, plot_width=width, title=title)\n",
    "    \n",
    "    df = data[\"mean\"]\n",
    "    xs = list(range(len(df.values)))\n",
    "    ys = df.values\n",
    "    yerrs = data[\"error\"].values\n",
    "\n",
    "    # create the coordinates for the errorbars             \n",
    "    err_xs = []\n",
    "    err_ys = []\n",
    "\n",
    "    for x, y, yerr in zip(xs, ys, yerrs):\n",
    "        err_xs.append((x, x))\n",
    "        err_ys.append((y - yerr, y + yerr))\n",
    "\n",
    "    # plot them\n",
    "    p.multi_line(err_xs, err_ys, color=color)\n",
    "    p.circle(xs, ys, color=color, size=5, line_alpha=0) \n",
    "\n",
    "    if p.y_range.start:\n",
    "        p.y_range.start = min(p.y_range.start, math.floor(min(ys) / 10) * 10)\n",
    "    else:\n",
    "        p.y_range.start = math.floor(min(ys) / 10) * 10\n",
    "    \n",
    "    show(p)\n",
    "        \n",
    "def methods(obj):\n",
    "    print('Methods:')\n",
    "    print('\\n'.join([x for x in dir(obj) if not x.startswith('_')]))\n",
    "    "
   ]
  },
  {
   "cell_type": "code",
   "execution_count": null,
   "metadata": {},
   "outputs": [],
   "source": [
    "# Use pandas DataFrame.join method to add the real commit date to each row so \n",
    "# we can then sort by date to get the correct column order in the graphs.\n",
    "# Then we groupby the TestName so we can create one  plot per test.\n",
    "df_commits.sort_values(['Date'], inplace=True)\n",
    "joined = df_cosmos.set_index('CommitId').join(df_commits.set_index('CommitId'))\n",
    "joined.sort_values(['Date'], inplace=True)\n",
    "grouped =joined.groupby(['TestName'])\n",
    "datasets = []\n",
    "for g in grouped:\n",
    "    test_name = g[0]\n",
    "    test_data = g[1].rename(columns={'TimeMean':'mean', 'TimeStdDev':'error'})\n",
    "    plots_with_error_bars(test_name, test_data)"
   ]
  }
 ],
 "metadata": {
  "kernelspec": {
   "display_name": "Python 3",
   "language": "python",
   "name": "python3"
  },
  "language_info": {
   "codemirror_mode": {
    "name": "ipython",
    "version": 3
   },
   "file_extension": ".py",
   "mimetype": "text/x-python",
   "name": "python",
   "nbconvert_exporter": "python",
   "pygments_lexer": "ipython3",
   "version": "3.7.7"
  }
 },
 "nbformat": 4,
 "nbformat_minor": 4
}
